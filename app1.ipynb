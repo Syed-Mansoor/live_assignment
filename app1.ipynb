{
 "cells": [
  {
   "cell_type": "code",
   "execution_count": null,
   "metadata": {},
   "outputs": [],
   "source": [
    "Question 1.1: Write the Answer to these questions.\n",
    ". Note: Give at least one example for each of the questions.\n",
    ". What is the difference between static and dynamic variables in Python?\n",
    ". Explain the purpose of \"pop\",\"popitem\",\"clear()\" in a dictionary with suitable examples.\n",
    ". What do you mean by FrozenSet? Explain it with suitable examples.\n",
    ". Differentiate between mutable and immutable data types in Python and give examples of mutable and immutable data types.\n",
    ". What is init__?Explain with an example.\n",
    ". What is docstring in Python?Explain with an example.\n",
    ". What are unit tests in Python?\n",
    ". What is break, continue and pass in Python?\n",
    ". What is the use of self in Python?\n",
    ". What are global, protected and private attributes in Python?\n",
    ". What are modules and packages in Python?\n",
    ". What are lists and tuples? What is the key difference between the two?\n",
    ". S\n",
    ". What is an Interpreted language & dynamically typed language?Write 5 differences between them.\n",
    ". What are Dict and List comprehensions?\n",
    ". What are decorators in Python? Explain it with an example.Write down its use cases.\n",
    ". How is memory managed in Python?\n",
    ". What is lambda in Python? Why is it used?\n",
    ". Explain split() and join() functions in Python?\n",
    ". What are iterators, iterable & generators in Python?\n",
    ". What is the difference between xrange and range in Python?\n",
    ". Pillars of Oops.\n",
    ". How will you check if a class is a child of another class?\n",
    ". How does inheritance work in python? Explain all types of inheritance with an example.\n",
    ". What is encapsulation? Explain it with an example.\n",
    ". What is polymorphism? Explain it with an example.\n"
   ]
  },
  {
   "cell_type": "code",
   "execution_count": 1,
   "metadata": {},
   "outputs": [
    {
     "name": "stdout",
     "output_type": "stream",
     "text": [
      "0\n",
      "0\n",
      "100\n",
      "100\n",
      "10\n",
      "20\n"
     ]
    }
   ],
   "source": [
    "# . What is the difference between static and dynamic variables in Python?\n",
    "'''Static Variables:\n",
    "- Definition: Variables defined at the class level, shared across all instances of the class.\n",
    "- Purpose: To maintain state that is common across all instances of the class.'''\n",
    "class Example:\n",
    "    static_var = 0  # Static variable\n",
    "\n",
    "    def __init__(self, value):\n",
    "        self.dynamic_var = value\n",
    "\n",
    "# Create instances\n",
    "obj1 = Example(10)\n",
    "obj2 = Example(20)\n",
    "\n",
    "print(obj1.static_var) \n",
    "print(obj2.static_var) \n",
    "\n",
    "# Modify static variable through the class\n",
    "Example.static_var = 100\n",
    "\n",
    "print(obj1.static_var)  # Output: 100\n",
    "print(obj2.static_var)  # Output: 100\n",
    "\n",
    "'''Dynamic Variables:\n",
    "Definition: Variables defined at the instance level, unique to each instance of the class.\n",
    "Purpose: To maintain state that is specific to each object instance.'''\n",
    "class Example:\n",
    "    def __init__(self, value):\n",
    "        self.dynamic_var = value  # Dynamic variable\n",
    "\n",
    "obj1 = Example(10)\n",
    "obj2 = Example(20)\n",
    "\n",
    "print(obj1.dynamic_var)  # Output: 10\n",
    "print(obj2.dynamic_var)  # Output: 20\n",
    "\n"
   ]
  },
  {
   "cell_type": "code",
   "execution_count": 1,
   "metadata": {},
   "outputs": [
    {
     "name": "stdout",
     "output_type": "stream",
     "text": [
      "2\n",
      "{'a': 1, 'c': 3}\n",
      "('c', 3)\n",
      "{'a': 1, 'b': 2}\n",
      "{}\n"
     ]
    }
   ],
   "source": [
    "# 2. Purpose of \"pop\", \"popitem\", \"clear()\" in a dictionary\n",
    "\n",
    "'pop(key): Removes the item with the specified key and returns its value.'\n",
    "\n",
    "my_dict = {'a': 1, 'b': 2, 'c': 3}\n",
    "removed_value = my_dict.pop('b')\n",
    "print(removed_value)  # Output: 2\n",
    "print(my_dict)  # Output: {'a': 1, 'c': 3}\n",
    "\n",
    "'popitem(): Removes and returns an arbitrary (key, value) pair as a tuple.'\n",
    "my_dict = {'a': 1, 'b': 2, 'c': 3}\n",
    "removed_item = my_dict.popitem()\n",
    "print(removed_item)  # Output: ('c', 3)\n",
    "print(my_dict)  # Output: {'a': 1, 'b': 2}\n",
    "\n",
    "\n",
    "'clear(): Removes all items from the dictionary.'\n",
    "my_dict = {'a': 1, 'b': 2, 'c': 3}\n",
    "my_dict.clear()\n",
    "print(my_dict)  # Output: {}\n"
   ]
  },
  {
   "cell_type": "code",
   "execution_count": 2,
   "metadata": {},
   "outputs": [
    {
     "name": "stdout",
     "output_type": "stream",
     "text": [
      "frozenset({1, 2, 3})\n"
     ]
    }
   ],
   "source": [
    "# 3. What do you mean by FrozenSet? Explain it with suitable examples.\n",
    "'A frozenset in Python is an immutable version of a set. Once created, its elements cannot be changed.'\n",
    "my_set = {1, 2, 3}\n",
    "frozen_set = frozenset(my_set)\n",
    "\n",
    "print(frozen_set)\n"
   ]
  },
  {
   "cell_type": "code",
   "execution_count": 3,
   "metadata": {},
   "outputs": [
    {
     "name": "stdout",
     "output_type": "stream",
     "text": [
      "[10, 2, 3]\n"
     ]
    }
   ],
   "source": [
    "# 4.. Differentiate between mutable and immutable data types in Python and give examples of mutable and immutable data types.\n",
    "'''Mutable: Objects whose value can be changed after they are created.\n",
    "\n",
    "Example: Lists are mutable.'''\n",
    "my_list = [1, 2, 3]\n",
    "my_list[0] = 10\n",
    "print(my_list)\n",
    "\n",
    "'immutable: Objects whose value cannot be changed after they are created.Example: Tuples are immutable.'\n",
    "my_tuple = (1, 2, 3)\n"
   ]
  },
  {
   "cell_type": "code",
   "execution_count": 5,
   "metadata": {},
   "outputs": [
    {
     "name": "stdout",
     "output_type": "stream",
     "text": [
      "syed mansoor\n",
      "23\n"
     ]
    }
   ],
   "source": [
    "# 5.  What is init? Explain with an example.\n",
    "'''__init__ is a special method in Python classes used to initialize objects. It's called when an instance (object) of the class is created.'''\n",
    "class Person:\n",
    "    def __init__(self, name, age):\n",
    "        self.name = name\n",
    "        self.age = age\n",
    "\n",
    "person1 = Person('syed mansoor', 23)\n",
    "print(person1.name) \n",
    "print(person1.age) \n"
   ]
  },
  {
   "cell_type": "code",
   "execution_count": 6,
   "metadata": {},
   "outputs": [],
   "source": [
    " # 6. What is docstring in Python? Explain with an example.\n",
    "'A docstring in Python is a string literal that occurs as the first'\n",
    "\n",
    "def square(x):\n",
    "    \"\"\"\n",
    "    Returns the square of a number.\n",
    "    \n",
    "    Parameters:\n",
    "    x (int): The number to be squared.\n",
    "    \n",
    "    Returns:\n",
    "    int: The square of the input number.\n",
    "    \"\"\"\n",
    "    return x ** 2\n"
   ]
  },
  {
   "cell_type": "code",
   "execution_count": 7,
   "metadata": {},
   "outputs": [
    {
     "data": {
      "text/plain": [
       "'Unit tests in Python are used to verify that individual units of code (like functions or methods) work as expected.'"
      ]
     },
     "execution_count": 7,
     "metadata": {},
     "output_type": "execute_result"
    }
   ],
   "source": [
    "# 7.  What are unit tests in Python?\n",
    "'Unit tests in Python are used to verify that individual units of code (like functions or methods) work as expected.'\n"
   ]
  },
  {
   "cell_type": "code",
   "execution_count": 8,
   "metadata": {},
   "outputs": [
    {
     "data": {
      "text/plain": [
       "'break: Terminates the loop statement and transfers execution to the statement immediately following the loop.\\ncontinue: Skips the rest of the current iteration and continues with the next iteration of the loop.\\npass: Acts as a placeholder. It does nothing and is used when a statement is syntactically required but you have nothing to do.\\n'"
      ]
     },
     "execution_count": 8,
     "metadata": {},
     "output_type": "execute_result"
    }
   ],
   "source": [
    "# 8. What is break, continue and pass in Python?\n",
    "'''break: Terminates the loop statement and transfers execution to the statement immediately following the loop.\n",
    "continue: Skips the rest of the current iteration and continues with the next iteration of the loop.\n",
    "pass: Acts as a placeholder. It does nothing and is used when a statement is syntactically required but you have nothing to do.\n",
    "'''\n"
   ]
  },
  {
   "cell_type": "code",
   "execution_count": 9,
   "metadata": {},
   "outputs": [
    {
     "data": {
      "text/plain": [
       "\"self in Python is used to represent the instance of the class. It allows you to access the instance's attributes and methods.\""
      ]
     },
     "execution_count": 9,
     "metadata": {},
     "output_type": "execute_result"
    }
   ],
   "source": [
    "# 9. . What is the use of self in Python?\n",
    "\"self in Python is used to represent the instance of the class. It allows you to access the instance's attributes and methods.\"\n"
   ]
  },
  {
   "cell_type": "code",
   "execution_count": 10,
   "metadata": {},
   "outputs": [
    {
     "data": {
      "text/plain": [
       "'Global: Variables defined outside any function or class scope.\\nProtected: Conventionally marked by a single underscore (_). Indicates that the attribute should not be accessed directly from outside the class.\\nPrivate: Conventionally marked by a double underscore (__). Python name-mangles the attribute to achieve some level of privacy.\\n'"
      ]
     },
     "execution_count": 10,
     "metadata": {},
     "output_type": "execute_result"
    }
   ],
   "source": [
    "# 10.  What are global, protected and private attributes in Python?\n",
    "'''Global: Variables defined outside any function or class scope.\n",
    "Protected: Conventionally marked by a single underscore (_). Indicates that the attribute should not be accessed directly from outside the class.\n",
    "Private: Conventionally marked by a double underscore (__). Python name-mangles the attribute to achieve some level of privacy.\n",
    "'''\n"
   ]
  },
  {
   "cell_type": "code",
   "execution_count": 11,
   "metadata": {},
   "outputs": [
    {
     "data": {
      "text/plain": [
       "'- Module: A file containing Python definitions, functions, and statements. It allows you to organize Python code into reusable units.\\n- Package: A collection of related Python modules that can be imported together as a single entity.\\n'"
      ]
     },
     "execution_count": 11,
     "metadata": {},
     "output_type": "execute_result"
    }
   ],
   "source": [
    "# 11.  What are modules and packages in Python?\n",
    "'''- Module: A file containing Python definitions, functions, and statements. It allows you to organize Python code into reusable units.\n",
    "- Package: A collection of related Python modules that can be imported together as a single entity.\n",
    "'''\n"
   ]
  },
  {
   "cell_type": "code",
   "execution_count": 12,
   "metadata": {},
   "outputs": [
    {
     "data": {
      "text/plain": [
       "'Lists: Mutable ordered sequences of elements.\\nTuples: Immutable ordered sequences of elements.'"
      ]
     },
     "execution_count": 12,
     "metadata": {},
     "output_type": "execute_result"
    }
   ],
   "source": [
    " # 12. What are lists and tuples? What is the key difference between the two?\n",
    "'''Lists: Mutable ordered sequences of elements.\n",
    "Tuples: Immutable ordered sequences of elements.'''\n"
   ]
  },
  {
   "cell_type": "code",
   "execution_count": 14,
   "metadata": {},
   "outputs": [
    {
     "data": {
      "text/plain": [
       "\"differences:\\n1 - Compiled languages are typically faster than interpreted languages.\\n2 - Interpreted languages are easier to debug and usually have shorter development cycles.\\n3 - In compiled languages, type checking is done at compile-time, whereas in interpreted languages, it's done at runtime.\\n4 - Compiled languages often generate platform-specific machine code, while interpreted languages execute code directly.\\n5 - Interpreted languages tend to be more flexible with dynamic features like dynamic typing and late binding.13. What are Dict and List comprehensions.\""
      ]
     },
     "execution_count": 14,
     "metadata": {},
     "output_type": "execute_result"
    }
   ],
   "source": [
    "# 13. What is an Interpreted language & dynamically typed language? Write 5 differences between them.\n",
    "'''Interpreted Language: Code is executed line by line without a separate compilation step (e.g., Python).\n",
    "Dynamically Typed Language: Variable types are determined at runtime.'''\n",
    "\n",
    "'''differences:\n",
    "1 - Compiled languages are typically faster than interpreted languages.\n",
    "2 - Interpreted languages are easier to debug and usually have shorter development cycles.\n",
    "3 - In compiled languages, type checking is done at compile-time, whereas in interpreted languages, it's done at runtime.\n",
    "4 - Compiled languages often generate platform-specific machine code, while interpreted languages execute code directly.\n",
    "5 - Interpreted languages tend to be more flexible with dynamic features like dynamic typing and late binding.13. What are Dict and List comprehensions.'''\n"
   ]
  },
  {
   "cell_type": "code",
   "execution_count": 15,
   "metadata": {},
   "outputs": [
    {
     "name": "stdout",
     "output_type": "stream",
     "text": [
      "{0: 0, 1: 1, 2: 4, 3: 9, 4: 16}\n",
      "[0, 2, 4, 6, 8]\n"
     ]
    }
   ],
   "source": [
    " # 14 . What are Dict and List comprehensions?\n",
    "'Dict Comprehension: Creates a new dictionary by specifying key-value pairs using a concise syntax.'\n",
    "squares = {x: x*x for x in range(5)}\n",
    "print(squares)\n",
    "\n",
    "'List Comprehension: Creates a new list by specifying elements using a concise syntax.'\n",
    "even_numbers = [x for x in range(10) if x % 2 == 0]\n",
    "print(even_numbers)\n"
   ]
  },
  {
   "cell_type": "code",
   "execution_count": 16,
   "metadata": {},
   "outputs": [
    {
     "name": "stdout",
     "output_type": "stream",
     "text": [
      "Something is happening before the function is called.\n",
      "Hello!\n",
      "Something is happening after the function is called.\n"
     ]
    }
   ],
   "source": [
    "# 15. What are decorators in Python? Explain it with an example. Write down its use cases.\n",
    "'Decorators are functions that modify the functionality of another function or method. They are often used to add behaviors to functions without modifying their source code.'\n",
    "def my_decorator(func):\n",
    "    def wrapper():\n",
    "        print(\"Something is happening before the function is called.\")\n",
    "        func()\n",
    "        print(\"Something is happening after the function is called.\")\n",
    "    return wrapper\n",
    "\n",
    "@my_decorator\n",
    "def say_hello():\n",
    "    print(\"Hello!\")\n",
    "\n",
    "say_hello()\n"
   ]
  },
  {
   "cell_type": "code",
   "execution_count": 17,
   "metadata": {},
   "outputs": [
    {
     "data": {
      "text/plain": [
       "'Python uses automatic memory management through garbage collection. Objects are allocated and deallocated automatically based on reference count.'"
      ]
     },
     "execution_count": 17,
     "metadata": {},
     "output_type": "execute_result"
    }
   ],
   "source": [
    "# 16. How is memory managed in Python?\n",
    "'Python uses automatic memory management through garbage collection. Objects are allocated and deallocated automatically based on reference count.'\n"
   ]
  },
  {
   "cell_type": "code",
   "execution_count": 19,
   "metadata": {},
   "outputs": [
    {
     "name": "stdout",
     "output_type": "stream",
     "text": [
      "25\n"
     ]
    }
   ],
   "source": [
    "# 17. What is lambda in Python? Why is it used?\n",
    "'Lambda functions are small anonymous functions defined with the lambda keyword. They can have any number of arguments but only one expression.'\n",
    "square = lambda x: x**2\n",
    "print(square(5)) \n"
   ]
  },
  {
   "cell_type": "code",
   "execution_count": 20,
   "metadata": {},
   "outputs": [
    {
     "name": "stdout",
     "output_type": "stream",
     "text": [
      "['Hello,', 'world!']\n",
      "Hello, world!\n"
     ]
    }
   ],
   "source": [
    "# 18.  Explain split() and join() functions in Python.\n",
    "'split(): Splits a string into a list of substrings based on a delimiter.'\n",
    "sentence = \"Hello, world!\"\n",
    "words = sentence.split()\n",
    "print(words)\n",
    "\n",
    "\n",
    "'join(): Concatenates elements of an iterable (e.g., list) into a single string using a delimiter.'\n",
    "words = ['Hello,', 'world!']\n",
    "sentence = ' '.join(words)\n",
    "print(sentence) \n"
   ]
  },
  {
   "cell_type": "code",
   "execution_count": 21,
   "metadata": {},
   "outputs": [
    {
     "data": {
      "text/plain": [
       "'Iterable: Any object capable of returning its members one at a time (e.g., lists, tuples, strings).\\nIterator: An object used to iterate over an iterable, maintaining the state of iteration.\\nGenerator: A type of iterator that lazily produces values on-the-fly using yield instead of return.'"
      ]
     },
     "execution_count": 21,
     "metadata": {},
     "output_type": "execute_result"
    }
   ],
   "source": [
    "# 19. What are iterators, iterable & generators in Python?\n",
    "'''Iterable: Any object capable of returning its members one at a time (e.g., lists, tuples, strings).\n",
    "Iterator: An object used to iterate over an iterable, maintaining the state of iteration.\n",
    "Generator: A type of iterator that lazily produces values on-the-fly using yield instead of return.'''\n"
   ]
  },
  {
   "cell_type": "code",
   "execution_count": 22,
   "metadata": {},
   "outputs": [
    {
     "data": {
      "text/plain": [
       "'range: In Python 3, range() returns a range object that behaves like a generator. In Python 2, it returns a list.\\nxrange: Only available in Python 2, it returns an xrange object, which is more memory efficient than range() because it generates values on-the-fly.'"
      ]
     },
     "execution_count": 22,
     "metadata": {},
     "output_type": "execute_result"
    }
   ],
   "source": [
    " # 20 What is the difference between xrange and range in Python?\n",
    "'''range: In Python 3, range() returns a range object that behaves like a generator. In Python 2, it returns a list.\n",
    "xrange: Only available in Python 2, it returns an xrange object, which is more memory efficient than range() because it generates values on-the-fly.'''\n"
   ]
  },
  {
   "cell_type": "code",
   "execution_count": 23,
   "metadata": {},
   "outputs": [
    {
     "data": {
      "text/plain": [
       "\"The four pillars of Object-Oriented Programming (OOP) are:\\n\\n1 - Encapsulation: Bundling data (attributes) and methods (functions) that operate on the data into a single unit (class). It restricts access to some of the object's components and hides the internal state.\\n\\n2 - Abstraction: Hides the complex implementation details and only exposes the necessary parts of an object. It helps in reducing complexity and showing only relevant information to the user.\\n\\n3 - Inheritance: Allows one class (child or derived class) to inherit the attributes and methods from another class (parent or base class), promoting code reuse.\\n\\n4 - Polymorphism: Refers to the ability of different objects to respond to the same message or method call in different ways. It allows objects of different classes to be treated as objects of a common superclass.\\n\""
      ]
     },
     "execution_count": 23,
     "metadata": {},
     "output_type": "execute_result"
    }
   ],
   "source": [
    "# 21. Pillars of OOPs\n",
    "'''The four pillars of Object-Oriented Programming (OOP) are:\n",
    "\n",
    "1 - Encapsulation: Bundling data (attributes) and methods (functions) that operate on the data into a single unit (class). It restricts access to some of the object's components and hides the internal state.\n",
    "\n",
    "2 - Abstraction: Hides the complex implementation details and only exposes the necessary parts of an object. It helps in reducing complexity and showing only relevant information to the user.\n",
    "\n",
    "3 - Inheritance: Allows one class (child or derived class) to inherit the attributes and methods from another class (parent or base class), promoting code reuse.\n",
    "\n",
    "4 - Polymorphism: Refers to the ability of different objects to respond to the same message or method call in different ways. It allows objects of different classes to be treated as objects of a common superclass.\n",
    "'''\n"
   ]
  },
  {
   "cell_type": "code",
   "execution_count": 24,
   "metadata": {},
   "outputs": [
    {
     "name": "stdout",
     "output_type": "stream",
     "text": [
      "True\n"
     ]
    }
   ],
   "source": [
    "# 22. How to check if a class is a child of another class in Python?\n",
    "'To check if one class is a subclass of another in Python, you can use the issubclass() function or the __subclasscheck__() special method.'\n",
    "class Animal:\n",
    "    pass\n",
    "\n",
    "class Dog(Animal):\n",
    "    pass\n",
    "print(issubclass(Dog, Animal))\n"
   ]
  },
  {
   "cell_type": "code",
   "execution_count": 25,
   "metadata": {},
   "outputs": [
    {
     "name": "stdout",
     "output_type": "stream",
     "text": [
      "Bark\n",
      "Method A\n",
      "Method B\n",
      "Method A\n",
      "Method B\n",
      "Bark\n",
      "Meow\n"
     ]
    }
   ],
   "source": [
    "# 23 How does inheritance work in Python? Explain all types of inheritance with an example.\n",
    "'''Inheritance in Python allows a derived class (subclass) to inherit characteristics (attributes and methods) from a base class (superclass). It facilitates code reuse and supports the concept of hierarchical classification.\n",
    "\n",
    "- Types of Inheritance:\n",
    "1 - Single Inheritance: One class inherits from another class.\n",
    "'''\n",
    "class Animal:\n",
    "    def sound(self):\n",
    "        print(\"Some sound\")\n",
    "\n",
    "class Dog(Animal):\n",
    "    def sound(self):\n",
    "        print(\"Bark\")\n",
    "\n",
    "dog = Dog()\n",
    "dog.sound()\n",
    "\n",
    "'2 - Multiple Inheritance: A class inherits from more than one base class.'\n",
    "class A:\n",
    "    def method_A(self):\n",
    "        print(\"Method A\")\n",
    "\n",
    "class B:\n",
    "    def method_B(self):\n",
    "        print(\"Method B\")\n",
    "\n",
    "class C(A, B):\n",
    "    def method_C(self):\n",
    "        print(\"Method C\")\n",
    "\n",
    "c = C()\n",
    "c.method_A()\n",
    "c.method_B()\n",
    "\n",
    "'3 - Multilevel Inheritance: One class inherits from another, and that class is further inherited by another class.'\n",
    "class A:\n",
    "    def method_A(self):\n",
    "        print(\"Method A\")\n",
    "\n",
    "class B(A):\n",
    "    def method_B(self):\n",
    "        print(\"Method B\")\n",
    "\n",
    "class C(B):\n",
    "    def method_C(self):\n",
    "        print(\"Method C\")\n",
    "\n",
    "c = C()\n",
    "c.method_A()\n",
    "c.method_B()\n",
    "\n",
    "'4 - Hierarchical Inheritance: More than one derived class inherits from a single base class.'\n",
    "class Animal:\n",
    "    def sound(self):\n",
    "        print(\"Some sound\")\n",
    "\n",
    "class Dog(Animal):\n",
    "    def sound(self):\n",
    "        print(\"Bark\")\n",
    "\n",
    "class Cat(Animal):\n",
    "    def sound(self):\n",
    "        print(\"Meow\")\n",
    "\n",
    "dog = Dog()\n",
    "cat = Cat()\n",
    "\n",
    "dog.sound()\n",
    "cat.sound()\n"
   ]
  },
  {
   "cell_type": "code",
   "execution_count": 26,
   "metadata": {},
   "outputs": [
    {
     "name": "stdout",
     "output_type": "stream",
     "text": [
      "Car: Toyota - Corolla\n",
      "Toyota\n",
      "Car: Honda - Corolla\n"
     ]
    }
   ],
   "source": [
    "# 24 What is encapsulation? Explain it with an example.\n",
    "\"Encapsulation is the bundling of data (attributes) and methods (functions that operate on the data) into a single unit (class). It restricts direct access to some of the object's components and hides the internal state.\"\n",
    "class Car:\n",
    "    def __init__(self, make, model):\n",
    "        self.__make = make \n",
    "        self.__model = model\n",
    "\n",
    "    def display_info(self):\n",
    "        print(f\"Car: {self.__make} - {self.__model}\")\n",
    "\n",
    "    def set_make(self, make):\n",
    "        self.__make = make\n",
    "\n",
    "    def get_make(self):\n",
    "        return self.__make\n",
    "\n",
    "car = Car(\"Toyota\", \"Corolla\")\n",
    "car.display_info()\n",
    "\n",
    "print(car.get_make())\n",
    "car.set_make(\"Honda\")\n",
    "car.display_info()\n"
   ]
  },
  {
   "cell_type": "code",
   "execution_count": 27,
   "metadata": {},
   "outputs": [
    {
     "name": "stdout",
     "output_type": "stream",
     "text": [
      "Bark\n",
      "Meow\n"
     ]
    }
   ],
   "source": [
    "# 25 What is polymorphism? Explain it with an example.\n",
    "'Polymorphism in Python allows objects of different classes to be treated as objects of a common superclass. It allows methods to be written that can work with objects of various types and classes, and this can be achieved through method overriding and method overloading.'\n",
    "class Animal:\n",
    "    def sound(self):\n",
    "        pass\n",
    "\n",
    "class Dog(Animal):\n",
    "    def sound(self):\n",
    "        print(\"Bark\")\n",
    "\n",
    "class Cat(Animal):\n",
    "    def sound(self):\n",
    "        print(\"Meow\")\n",
    "\n",
    "def make_sound(animal):\n",
    "    animal.sound()\n",
    "\n",
    "dog = Dog()\n",
    "cat = Cat()\n",
    "\n",
    "make_sound(dog)\n",
    "make_sound(cat) \n"
   ]
  },
  {
   "cell_type": "code",
   "execution_count": 40,
   "metadata": {},
   "outputs": [
    {
     "name": "stdout",
     "output_type": "stream",
     "text": [
      "2\n",
      "2\n",
      "2\n",
      "2\n"
     ]
    }
   ],
   "source": [
    "'Question 1. 2. Which of the following identifier names are invalid and why?'\n",
    "'''a) Serial_no.\n",
    "b) Ist_Room\n",
    "c) Hundred$\n",
    "d) Total_Marks\n",
    "e) total-Marks\n",
    "1) Total Marks\n",
    "g) True\n",
    "h) Percentage'''\n",
    "\n",
    "serial_no = 2\n",
    "print(serial_no)\n",
    "Ist_Room = 2\n",
    "print(Ist_Room)\n",
    "'print(Hundred$ = 2) '# this $ sign is invalid because identifier cannot contain special characters except _\n",
    "total_Makrs = 2\n",
    "print(total_Makrs)\n",
    "'print(total-Marks = 2) '# only _ is allowed from special characters\n",
    "'print(True = 2)' # True is a keyword so we cannot make an identifier named True\n",
    "percentage = 2\n",
    "print(percentage)\n"
   ]
  },
  {
   "cell_type": "code",
   "execution_count": 63,
   "metadata": {},
   "outputs": [
    {
     "name": "stdout",
     "output_type": "stream",
     "text": [
      "['Freeedom_fighter', 'Mohan', 'dash', 'karam', 'chandra', 'gandhi', 'Bapu']\n",
      "6\n",
      "['Bapuji', 'dash', 'karam', 'chandra', 'gandi', 'Mohan', 'Netaji', 'Bose']\n",
      "('temp :', 'Bose')\n",
      "['Bose', 'dash', 'karam', 'chandra', 'gandi', 'Mohan', 'Netaji', 'Bapuji']\n"
     ]
    }
   ],
   "source": [
    "'''Question 1.3.\n",
    "name = [\"Mohan\", \"dash\", \"karam\", \"chandra\", \"gandhi\", \"Bapu\"] do the following operations in this list;\n",
    "a) add an element \"freedom_fighter\" in this list at the Oth index.'''\n",
    "\n",
    "name = [\"Mohan\", \"dash\", \"karam\", \"chandra\", \"gandhi\", \"Bapu\"]\n",
    "name.insert(0,'Freeedom_fighter')\n",
    "print(name)\n",
    "# b) find the output of the following, and explain how?\n",
    "name = [\"freedomFighter\", \"Bapuji\", \"Mohan\" \"dash\", \"karam\", \"chandra\", \"gandhi\"]\n",
    "length1=len((name[-len (name)+1:-1:2]))\n",
    "length2=len((name[-len (name)+1:-1]))\n",
    "print(length1+length2)\n",
    "\n",
    "'''name[-len(name)+1:-1:2]: This slice starts from the second element from the end (-len(name)+1) and goes up to the second element from the end (-1) with a step of 2.\n",
    "name[-len(name)+1:-1]: This slice starts from the second element from the end (-len(name)+1) and goes up to the second element from the end (-1) without specifying a step, which defaults to 1 (every element).'''\n",
    "# c) add two more elements in the name [\"Netaji\",\"Bose\") at the end of the list.\n",
    "# d) what will be the value of temp\n",
    "name = [\"Bapuji\", \"dash\", \"karam\", \"chandra\", \"gandi\", \"Mohan\"]\n",
    "name.append('Netaji')\n",
    "name.append('Bose')\n",
    "print(name)\n",
    "temp=name[-1]\n",
    "name[-1]=name[0]\n",
    "name[0]=temp\n",
    "print(f'{'temp :',temp}')\n",
    "print(name)\n"
   ]
  },
  {
   "cell_type": "code",
   "execution_count": 64,
   "metadata": {},
   "outputs": [
    {
     "name": "stdout",
     "output_type": "stream",
     "text": [
      "2\n",
      "4\n",
      "7\n"
     ]
    }
   ],
   "source": [
    " # Question 1.4.Find the output of the following.\n",
    "animal = ['Human','cat', 'mat', 'cat', 'rat', 'Human', 'Lion']\n",
    "print(animal.count('Human'))\n",
    "print(animal.index('rat'))\n",
    "print(len(animal))\n"
   ]
  },
  {
   "cell_type": "code",
   "execution_count": 78,
   "metadata": {},
   "outputs": [
    {
     "name": "stdout",
     "output_type": "stream",
     "text": [
      "(10, 20, 'Apple', 3.4, 'a', ['master', 'ji'], ('sita', 'geeta', 22), [{'roll_no': 1}, {'name': 'Navneet'}])\n",
      "8\n",
      "Navneet\n",
      "{'roll_no': 1}\n",
      "ji\n",
      "22\n"
     ]
    }
   ],
   "source": [
    "# Question 1.5. \n",
    "tuple1=(10,20,\"Apple\", 3.4,'a', [\"master\", \"ji\"], (\"sita\", \"geeta\", 22),[{\"roll_no\":1}, {\"name\":\"Navneet\"}])\n",
    "print(tuple1)\n",
    "print(len(tuple1))\n",
    "print(tuple1[-1][-1][\"name\"])\n",
    "#  fetch the value of roll_no from this tuple.\n",
    "print(tuple1[-1][0])\n",
    "print(tuple1[-3][1])\n",
    " # fetch the element \"22\" from this tuple\n",
    "print(tuple1[-2][2])\n"
   ]
  },
  {
   "cell_type": "code",
   "execution_count": 83,
   "metadata": {},
   "outputs": [
    {
     "name": "stdout",
     "output_type": "stream",
     "text": [
      "Invalid color\n"
     ]
    }
   ],
   "source": [
    "# 1.6. Write a program to display the appropriate message as per the color of signal (RED-Stop/Yellow-Stay/ Green-Go) at the road crossing.\n",
    "signal = input(\"Enter the signal color\").lower()\n",
    "if signal == 'red':\n",
    "    print(\"Stop\")\n",
    "elif signal == 'yellow':\n",
    "    print(\"Stay\")\n",
    "elif signal == 'green':\n",
    "    print(\"Go\")\n",
    "else:\n",
    "    print(\"Invalid color\")\n"
   ]
  },
  {
   "cell_type": "code",
   "execution_count": 86,
   "metadata": {},
   "outputs": [
    {
     "name": "stdout",
     "output_type": "stream",
     "text": [
      "30.0\n"
     ]
    }
   ],
   "source": [
    "# 1.7. Write a program to create a simple calculator performing only four basic operations(+,-./.*)\n",
    "fnum = float(input(\"Enter first number = \"))\n",
    "snum = float(input(\"Enter second number = \"))\n",
    "ops = input('enter operator :''-,+,*,/')\n",
    "if ops == '+':\n",
    "    print(fnum + snum)\n",
    "elif ops == '-':\n",
    "    print(fnum - snum)\n",
    "elif ops == '*':\n",
    "    print(fnum * snum)\n",
    "elif ops == '/':\n",
    "    print(fnum / snum)\n",
    "else :\n",
    "    print('Invalid operator')\n"
   ]
  },
  {
   "cell_type": "code",
   "execution_count": 87,
   "metadata": {},
   "outputs": [
    {
     "name": "stdout",
     "output_type": "stream",
     "text": [
      "The largest number among 15, 30, and 20 is: 30\n"
     ]
    }
   ],
   "source": [
    "\n",
    "# 1.8. Program to find the larger of three pre-specified numbers using ternary operators\n",
    "# Three pre-specified numbers\n",
    "num1 = 15\n",
    "num2 = 30\n",
    "num3 = 20\n",
    "\n",
    "# Using ternary operator to find the largest number\n",
    "largest = num1 if (num1 >= num2 and num1 >= num3) else (num2 if (num2 >= num1 and num2 >= num3) else num3)\n",
    "\n",
    "print(f\"The largest number among {num1}, {num2}, and {num3} is: {largest}\")\n"
   ]
  },
  {
   "cell_type": "code",
   "execution_count": 88,
   "metadata": {},
   "outputs": [
    {
     "name": "stdout",
     "output_type": "stream",
     "text": [
      "The factors of 36 are: [1, 2, 3, 4, 6, 9, 12, 18, 36]\n"
     ]
    }
   ],
   "source": [
    "# 1.9. Program to find the factors of a whole number using a while loop\n",
    "# Input number\n",
    "number = 36\n",
    "\n",
    "i = 1\n",
    "factors = []\n",
    "\n",
    "# Find factors using a while loop\n",
    "while i <= number:\n",
    "    if number % i == 0:\n",
    "        factors.append(i)\n",
    "    i += 1\n",
    "\n",
    "# Print the factors\n",
    "print(f\"The factors of {number} are: {factors}\")\n"
   ]
  },
  {
   "cell_type": "code",
   "execution_count": 89,
   "metadata": {},
   "outputs": [
    {
     "name": "stdout",
     "output_type": "stream",
     "text": [
      "The sum of all positive numbers entered is: 1000\n"
     ]
    }
   ],
   "source": [
    "# 1.10. Program to find the sum of all positive numbers entered by the user, stopping on negative input\n",
    "# Initialize sum variable\n",
    "sum_positive = 0\n",
    "\n",
    "# Loop to get input from user\n",
    "while True:\n",
    "    num = int(input(\"Enter a number (negative to stop): \"))\n",
    "    if num < 0:\n",
    "        break\n",
    "    sum_positive += num\n",
    "\n",
    "# Display the sum of positive numbers\n",
    "print(f\"The sum of all positive numbers entered is: {sum_positive}\")\n"
   ]
  },
  {
   "cell_type": "code",
   "execution_count": 90,
   "metadata": {},
   "outputs": [
    {
     "name": "stdout",
     "output_type": "stream",
     "text": [
      "The prime numbers between 2 and 100 are: [2, 3, 5, 7, 11, 13, 17, 19, 23, 29, 31, 37, 41, 43, 47, 53, 59, 61, 67, 71, 73, 79, 83, 89, 97]\n"
     ]
    }
   ],
   "source": [
    "# 1.11. Program to find prime numbers between 2 to 100 using nested for loops\n",
    "# Initialize empty list to store prime numbers\n",
    "prime_numbers = []\n",
    "\n",
    "# Loop through numbers from 2 to 100\n",
    "for num in range(2, 101):\n",
    "    is_prime = True\n",
    "    # Check for factors from 2 to num-1\n",
    "    for i in range(2, int(num**0.5) + 1):\n",
    "        if num % i == 0:\n",
    "            is_prime = False\n",
    "            break\n",
    "    # If num is prime, add it to the list\n",
    "    if is_prime:\n",
    "        prime_numbers.append(num)\n",
    "\n",
    "# Print the prime numbers\n",
    "print(f\"The prime numbers between 2 and 100 are: {prime_numbers}\")\n"
   ]
  },
  {
   "cell_type": "code",
   "execution_count": 96,
   "metadata": {},
   "outputs": [
    {
     "name": "stdout",
     "output_type": "stream",
     "text": [
      "grade C\n"
     ]
    }
   ],
   "source": [
    "# 1.12. Write the programs for the following:\n",
    "# • Accept the marks of the student in five major subjects and display the same.\n",
    "# • Calculate the sum of the marks of all subjects.Divide the total marks by number of subjects (ie. 5),\n",
    "#  calculate percentage = total marks/5 and display the percentage.\n",
    "# • Find the grade of the student as per the following criteria. Hint: Use Match & case for this.:\n",
    "\n",
    "english = int(input(\"Enter your english marks :\"))\n",
    "math = int(input(\"Enter your math marks :\"))\n",
    "science = int(input(\"enter your science marks :\"))\n",
    "history = int(input(\"enter your history marks : \"))\n",
    "evs = int(input(\"enter your evs marks : \"))\n",
    "total = english + math + science + history + evs\n",
    "percentage =( total / 500 ) * 100\n",
    "if percentage > 85:\n",
    "    print(\"grade A\")\n",
    "elif percentage >= 75 :\n",
    "    print('Grade B')\n",
    "elif percentage >= 50 :\n",
    "    print(\"grade C\")\n",
    "elif percentage > 30 :\n",
    "    print(\"Grade D\")\n",
    "elif percentage < 30 and percentage > 1:\n",
    "    print(\"Reappear\")\n"
   ]
  },
  {
   "cell_type": "code",
   "execution_count": 104,
   "metadata": {},
   "outputs": [
    {
     "name": "stdout",
     "output_type": "stream",
     "text": [
      "Red\n"
     ]
    }
   ],
   "source": [
    "# 1.13. Write a program for VIBGYOR Spectrum based on their Wavelength using. Wavelength Range:\n",
    "wavelength = float(input(\"Enter wavelength range : \"))\n",
    "if wavelength >= 400 and wavelength <= 440:\n",
    "    print(\"Violet\")\n",
    "elif wavelength >= 440 and wavelength <= 460:\n",
    "    print(\"indigo\")\n",
    "elif wavelength >= 460 and wavelength <= 500:\n",
    "    print(\"Blue\")\n",
    "elif wavelength >= 500 and wavelength <= 570:\n",
    "    print(\"Green\")\n",
    "elif wavelength >= 570 and wavelength <= 590:\n",
    "    print(\"Yellow\")\n",
    "elif wavelength >= 590 and wavelength <= 620:\n",
    "    print(\"Orange\")\n",
    "elif wavelength >= 620 and wavelength <= 720:\n",
    "    print(\"Red\")\n",
    "else:\n",
    "    print(\"Invalid wavelength\")\n"
   ]
  }
 ],
 "metadata": {
  "kernelspec": {
   "display_name": "Python 3",
   "language": "python",
   "name": "python3"
  },
  "language_info": {
   "codemirror_mode": {
    "name": "ipython",
    "version": 3
   },
   "file_extension": ".py",
   "mimetype": "text/x-python",
   "name": "python",
   "nbconvert_exporter": "python",
   "pygments_lexer": "ipython3",
   "version": "3.12.3"
  }
 },
 "nbformat": 4,
 "nbformat_minor": 2
}
